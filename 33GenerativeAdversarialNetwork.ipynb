{
  "nbformat": 4,
  "nbformat_minor": 0,
  "metadata": {
    "colab": {
      "provenance": [],
      "gpuType": "T4",
      "authorship_tag": "ABX9TyN9ov+WJe/JCFpP/dCA3nju",
      "include_colab_link": true
    },
    "kernelspec": {
      "name": "python3",
      "display_name": "Python 3"
    },
    "language_info": {
      "name": "python"
    },
    "accelerator": "GPU"
  },
  "cells": [
    {
      "cell_type": "markdown",
      "metadata": {
        "id": "view-in-github",
        "colab_type": "text"
      },
      "source": [
        "<a href=\"https://colab.research.google.com/github/stepan-zykov/selfedu/blob/main/33GenerativeAdversarialNetwork.ipynb\" target=\"_parent\"><img src=\"https://colab.research.google.com/assets/colab-badge.svg\" alt=\"Open In Colab\"/></a>"
      ]
    },
    {
      "cell_type": "markdown",
      "source": [
        "https://www.youtube.com/watch?v=_zyh1mzXDqQ&list=PLA0M1Bcd0w8yv0XGiF1wjerjSZVSrYbjh&index=32"
      ],
      "metadata": {
        "id": "x1pwW1mPpp11"
      }
    },
    {
      "cell_type": "code",
      "source": [
        "import os\n",
        "os.environ['TF_CPP_MIN_LOG_LEVEL'] = '2'\n",
        "\n",
        "import numpy as np\n",
        "import matplotlib.pyplot as plt\n",
        "import time\n",
        "\n",
        "from tensorflow.keras.datasets import mnist\n",
        "import tensorflow.keras.backend as K\n",
        "import tensorflow as tf\n",
        "from tensorflow.keras.layers import Dense, Flatten, Reshape, Input, BatchNormalization, Dropout\n",
        "from tensorflow.keras.layers import Conv2D, Conv2DTranspose, LeakyReLU"
      ],
      "metadata": {
        "id": "mYOzZErlpqLi"
      },
      "execution_count": 60,
      "outputs": []
    },
    {
      "cell_type": "code",
      "source": [
        "(x_train, y_train), (x_test, y_test) = mnist.load_data()"
      ],
      "metadata": {
        "id": "8bh4wqf1wjnn"
      },
      "execution_count": 61,
      "outputs": []
    },
    {
      "cell_type": "code",
      "source": [
        "x_train.shape"
      ],
      "metadata": {
        "colab": {
          "base_uri": "https://localhost:8080/"
        },
        "id": "E8BB5fqBxwSg",
        "outputId": "9f74d198-695f-4119-b776-4075d1d3e485"
      },
      "execution_count": 62,
      "outputs": [
        {
          "output_type": "execute_result",
          "data": {
            "text/plain": [
              "(60000, 28, 28)"
            ]
          },
          "metadata": {},
          "execution_count": 62
        }
      ]
    },
    {
      "cell_type": "code",
      "source": [
        "x_train = x_train[y_train == 7]\n",
        "y_train = y_train[y_train == 7]"
      ],
      "metadata": {
        "id": "JqKYqL7yxfzj"
      },
      "execution_count": 63,
      "outputs": []
    },
    {
      "cell_type": "code",
      "source": [
        "BUFFER_SIZE = x_train.shape[0]\n",
        "BATCH_SIZE = 100"
      ],
      "metadata": {
        "id": "cWCB6RWaxqmJ"
      },
      "execution_count": 64,
      "outputs": []
    },
    {
      "cell_type": "code",
      "source": [
        "BUFFER_SIZE = BUFFER_SIZE // BATCH_SIZE * BATCH_SIZE"
      ],
      "metadata": {
        "id": "YLTOpVpVyQB7"
      },
      "execution_count": 65,
      "outputs": []
    },
    {
      "cell_type": "code",
      "source": [
        "x_train = x_train[:BUFFER_SIZE]\n",
        "y_train = y_train[:BUFFER_SIZE]"
      ],
      "metadata": {
        "id": "oMNlaFH3yeOz"
      },
      "execution_count": 66,
      "outputs": []
    },
    {
      "cell_type": "code",
      "source": [
        "print(x_train.shape, y_train.shape)"
      ],
      "metadata": {
        "colab": {
          "base_uri": "https://localhost:8080/"
        },
        "id": "9UuY65iRymVf",
        "outputId": "3dcfc3d9-2944-448d-90b3-a442dc00fe7c"
      },
      "execution_count": 67,
      "outputs": [
        {
          "output_type": "stream",
          "name": "stdout",
          "text": [
            "(6200, 28, 28) (6200,)\n"
          ]
        }
      ]
    },
    {
      "cell_type": "code",
      "source": [
        "x_train  = x_train / 255\n",
        "x_test = x_test / 255"
      ],
      "metadata": {
        "id": "YOItciRTyprr"
      },
      "execution_count": 68,
      "outputs": []
    },
    {
      "cell_type": "code",
      "source": [
        "x_train = np.reshape(x_train, (len(x_train), 28, 28, 1))\n",
        "x_test = np.reshape(x_test, (len(x_test), 28, 28, 1))"
      ],
      "metadata": {
        "id": "PCPefb1WysiB"
      },
      "execution_count": 69,
      "outputs": []
    },
    {
      "cell_type": "code",
      "source": [
        "train_dataset = tf.data.Dataset.from_tensor_slices(x_train).shuffle(BUFFER_SIZE).batch(BATCH_SIZE)"
      ],
      "metadata": {
        "id": "dGkKCGyHzClw"
      },
      "execution_count": 70,
      "outputs": []
    },
    {
      "cell_type": "code",
      "source": [
        "hidden_dim = 2"
      ],
      "metadata": {
        "id": "HASZcAmZzUib"
      },
      "execution_count": 71,
      "outputs": []
    },
    {
      "cell_type": "code",
      "source": [
        "def dropout_and_batch():\n",
        "    return Dropout(0.3)(BatchNormalization())"
      ],
      "metadata": {
        "id": "mPOH4TZxzXIS"
      },
      "execution_count": 72,
      "outputs": []
    },
    {
      "cell_type": "code",
      "source": [
        "# генератор\n",
        "generator = tf.keras.Sequential([\n",
        "    Dense(7 * 7 * 256, activation='relu', input_shape=(hidden_dim,)),\n",
        "    BatchNormalization(),\n",
        "    Reshape((7, 7, 256)),\n",
        "    Conv2DTranspose(128, (5, 5), strides=(1, 1), padding='same', activation='relu'),\n",
        "    BatchNormalization(),\n",
        "    Conv2DTranspose(64, (5, 5), strides=(2, 2), padding='same', activation='relu'),\n",
        "    BatchNormalization(),\n",
        "    Conv2DTranspose(1, (5, 5), strides=(2, 2), padding='same', activation='sigmoid')])"
      ],
      "metadata": {
        "id": "27PvEc0bzqa8"
      },
      "execution_count": 73,
      "outputs": []
    },
    {
      "cell_type": "code",
      "source": [
        "# дискриминатор\n",
        "discriminator = tf.keras.Sequential()\n",
        "\n",
        "discriminator.add(Conv2D(64, (5, 5), strides=(2, 2), padding='same', input_shape=[28, 28, 1]))\n",
        "discriminator.add(LeakyReLU())\n",
        "discriminator.add(Dropout(0.3))\n",
        "\n",
        "discriminator.add(Conv2D(128, (5, 5), strides=(2, 2), padding='same'))\n",
        "discriminator.add(LeakyReLU())\n",
        "discriminator.add(Dropout(0.3))\n",
        "\n",
        "discriminator.add(Flatten())\n",
        "discriminator.add(Dense(1))"
      ],
      "metadata": {
        "id": "bwOz3DIHBnqj"
      },
      "execution_count": 74,
      "outputs": []
    },
    {
      "cell_type": "code",
      "source": [
        "# потери\n",
        "cross_entropy = tf.keras.losses.BinaryCrossentropy(from_logits=True)"
      ],
      "metadata": {
        "id": "OJA8Cs5FBzdf"
      },
      "execution_count": 75,
      "outputs": []
    },
    {
      "cell_type": "code",
      "source": [
        "def generator_loss(fake_output):\n",
        "    loss = cross_entropy(tf.ones_like(fake_output), fake_output)\n",
        "    return loss\n",
        "\n",
        "def discriminator_loss(real_output, fake_output):\n",
        "    real_loss = cross_entropy(tf.ones_like(real_output), real_output)\n",
        "    fake_loss = cross_entropy(tf.zeros_like(fake_output), fake_output)\n",
        "    total_loss = real_loss + fake_loss\n",
        "    return total_loss"
      ],
      "metadata": {
        "id": "RgBjWMt3DUpP"
      },
      "execution_count": 76,
      "outputs": []
    },
    {
      "cell_type": "code",
      "source": [
        "generator_optimizer = tf.keras.optimizers.Adam(1e-4)\n",
        "discriminator_optimizer = tf.keras.optimizers.Adam(1e-4)"
      ],
      "metadata": {
        "id": "8mNmbdrtE2fd"
      },
      "execution_count": 77,
      "outputs": []
    },
    {
      "cell_type": "code",
      "source": [
        "# обучение\n",
        "@tf.function\n",
        "def train_step(images):\n",
        "    noise = tf.random.normal([BATCH_SIZE, hidden_dim])\n",
        "\n",
        "    with tf.GradientTape() as gen_tape, tf.GradientTape() as disc_tape:\n",
        "        generated_images = generator(noise, training=True)\n",
        "\n",
        "        real_output = discriminator(images, training=True)\n",
        "        fake_output = discriminator(generated_images, training=True)\n",
        "\n",
        "        gen_loss = generator_loss(fake_output)\n",
        "        disc_loss = discriminator_loss(real_output, fake_output)\n",
        "\n",
        "    gradients_of_generator = gen_tape.gradient(gen_loss, generator.trainable_variables)\n",
        "    gradients_of_discriminator = disc_tape.gradient(disc_loss, discriminator.trainable_variables)\n",
        "\n",
        "    generator_optimizer.apply_gradients(zip(gradients_of_generator, generator.trainable_variables))\n",
        "    discriminator_optimizer.apply_gradients(zip(gradients_of_discriminator, discriminator.trainable_variables))\n",
        "    return gen_loss, disc_loss\n"
      ],
      "metadata": {
        "id": "-Q6zFmUuFIbY"
      },
      "execution_count": 78,
      "outputs": []
    },
    {
      "cell_type": "code",
      "source": [
        "def train(dataset, epochs):\n",
        "    history = []\n",
        "    MAX_PRINT_LABEL = 10\n",
        "    th = BUFFER_SIZE // (BATCH_SIZE * MAX_PRINT_LABEL)\n",
        "\n",
        "    for epoch in range(1, epochs + 1):\n",
        "        print(f'{epoch}/{epochs}: ', end='')\n",
        "\n",
        "        start = time.time()\n",
        "        n = 0\n",
        "\n",
        "        gen_loss_epoch = 0\n",
        "        for image_batch in dataset:\n",
        "            gen_loss, disc_loss = train_step(image_batch)\n",
        "            gen_loss_epoch += K.mean(gen_loss)\n",
        "            if (n % th == 0):\n",
        "              print('=', end='')\n",
        "            n += 1\n",
        "\n",
        "        history += [gen_loss_epoch / n]\n",
        "        print(': ' + str(history[-1]))\n",
        "        print('Время эпохи {} составляет {} секунд'.format(epoch, time.time() - start))\n",
        "\n",
        "    return history"
      ],
      "metadata": {
        "id": "G32WVBNVIicL"
      },
      "execution_count": 79,
      "outputs": []
    },
    {
      "cell_type": "code",
      "source": [
        "# запуск процесса обучения\n",
        "EPOCHS = 20\n",
        "history = train(train_dataset, EPOCHS)\n",
        "\n",
        "plt.plot(history)\n",
        "plt.grid(True)\n",
        "plt.show()"
      ],
      "metadata": {
        "colab": {
          "base_uri": "https://localhost:8080/",
          "height": 1000
        },
        "id": "rGNYUKiGLQHd",
        "outputId": "4dc31732-9c10-4230-cd68-a4a98cc9f686"
      },
      "execution_count": 80,
      "outputs": [
        {
          "output_type": "stream",
          "name": "stdout",
          "text": [
            "1/20: ===========: tf.Tensor(1.4366766, shape=(), dtype=float32)\n",
            "Время эпохи 1 составляет 4.9447221755981445 секунд\n",
            "2/20: ===========: tf.Tensor(2.4835231, shape=(), dtype=float32)\n",
            "Время эпохи 2 составляет 1.121995210647583 секунд\n",
            "3/20: ===========: tf.Tensor(3.1988509, shape=(), dtype=float32)\n",
            "Время эпохи 3 составляет 1.1049211025238037 секунд\n",
            "4/20: ===========: tf.Tensor(3.3224537, shape=(), dtype=float32)\n",
            "Время эпохи 4 составляет 1.1029534339904785 секунд\n",
            "5/20: ===========: tf.Tensor(3.0988467, shape=(), dtype=float32)\n",
            "Время эпохи 5 составляет 1.107611894607544 секунд\n",
            "6/20: ===========: tf.Tensor(2.5401547, shape=(), dtype=float32)\n",
            "Время эпохи 6 составляет 1.108731746673584 секунд\n",
            "7/20: ===========: tf.Tensor(1.8659977, shape=(), dtype=float32)\n",
            "Время эпохи 7 составляет 1.1053001880645752 секунд\n",
            "8/20: ===========: tf.Tensor(1.7081538, shape=(), dtype=float32)\n",
            "Время эпохи 8 составляет 1.109194040298462 секунд\n",
            "9/20: ===========: tf.Tensor(1.5449249, shape=(), dtype=float32)\n",
            "Время эпохи 9 составляет 1.1074786186218262 секунд\n",
            "10/20: ===========: tf.Tensor(1.5547271, shape=(), dtype=float32)\n",
            "Время эпохи 10 составляет 1.108405590057373 секунд\n",
            "11/20: ===========: tf.Tensor(1.4277111, shape=(), dtype=float32)\n",
            "Время эпохи 11 составляет 1.2645177841186523 секунд\n",
            "12/20: ===========: tf.Tensor(1.3444083, shape=(), dtype=float32)\n",
            "Время эпохи 12 составляет 1.1423354148864746 секунд\n",
            "13/20: ===========: tf.Tensor(1.3739885, shape=(), dtype=float32)\n",
            "Время эпохи 13 составляет 1.118929386138916 секунд\n",
            "14/20: ===========: tf.Tensor(1.306031, shape=(), dtype=float32)\n",
            "Время эпохи 14 составляет 1.1152703762054443 секунд\n",
            "15/20: ===========: tf.Tensor(1.2606503, shape=(), dtype=float32)\n",
            "Время эпохи 15 составляет 1.1179158687591553 секунд\n",
            "16/20: ===========: tf.Tensor(1.192096, shape=(), dtype=float32)\n",
            "Время эпохи 16 составляет 1.1415300369262695 секунд\n",
            "17/20: ===========: tf.Tensor(1.1429104, shape=(), dtype=float32)\n",
            "Время эпохи 17 составляет 1.1475028991699219 секунд\n",
            "18/20: ===========: tf.Tensor(1.0726025, shape=(), dtype=float32)\n",
            "Время эпохи 18 составляет 1.1204321384429932 секунд\n",
            "19/20: ===========: tf.Tensor(1.0923392, shape=(), dtype=float32)\n",
            "Время эпохи 19 составляет 1.147981882095337 секунд\n",
            "20/20: ===========: tf.Tensor(0.8980487, shape=(), dtype=float32)\n",
            "Время эпохи 20 составляет 1.1592144966125488 секунд\n"
          ]
        },
        {
          "output_type": "display_data",
          "data": {
            "text/plain": [
              "<Figure size 640x480 with 1 Axes>"
            ],
            "image/png": "[encoded data removed]"
          },
          "metadata": {}
        }
      ]
    },
    {
      "cell_type": "code",
      "source": [
        "# отображение результатов генерации\n",
        "n = 2\n",
        "total = 2 * n + 1\n",
        "\n",
        "plt.figure(figsize=(total, total))\n",
        "num = 1\n",
        "for i in range(-n, n+1):\n",
        "    for j in range(-n, n + 1):\n",
        "        ax = plt.subplot(total, total, num)\n",
        "        num += 1\n",
        "        img = generator.predict(np.expand_dims([0.5*i/n, 0.5*i/n], axis=0))\n",
        "        plt.imshow(img[0,:,:,0], cmap='gray')\n",
        "        ax.get_xaxis().set_visible(False)\n",
        "        ax.get_yaxis().set_visible(False)\n",
        "plt.show()\n"
      ],
      "metadata": {
        "colab": {
          "base_uri": "https://localhost:8080/",
          "height": 856
        },
        "id": "YfC2CHZgPH-1",
        "outputId": "adbdd6b4-2feb-41e0-805f-8f3f7bf10c0c"
      },
      "execution_count": 81,
      "outputs": [
        {
          "output_type": "stream",
          "name": "stdout",
          "text": [
            "1/1 [==============================] - 0s 172ms/step\n",
            "1/1 [==============================] - 0s 21ms/step\n",
            "1/1 [==============================] - 0s 33ms/step\n",
            "1/1 [==============================] - 0s 38ms/step\n",
            "1/1 [==============================] - 0s 27ms/step\n",
            "1/1 [==============================] - 0s 28ms/step\n",
            "1/1 [==============================] - 0s 27ms/step\n",
            "1/1 [==============================] - 0s 33ms/step\n",
            "1/1 [==============================] - 0s 28ms/step\n",
            "1/1 [==============================] - 0s 27ms/step\n",
            "1/1 [==============================] - 0s 30ms/step\n",
            "1/1 [==============================] - 0s 30ms/step\n",
            "1/1 [==============================] - 0s 34ms/step\n",
            "1/1 [==============================] - 0s 31ms/step\n",
            "1/1 [==============================] - 0s 31ms/step\n",
            "1/1 [==============================] - 0s 36ms/step\n",
            "1/1 [==============================] - 0s 37ms/step\n",
            "1/1 [==============================] - 0s 20ms/step\n",
            "1/1 [==============================] - 0s 20ms/step\n",
            "1/1 [==============================] - 0s 20ms/step\n",
            "1/1 [==============================] - 0s 21ms/step\n",
            "1/1 [==============================] - 0s 20ms/step\n",
            "1/1 [==============================] - 0s 17ms/step\n",
            "1/1 [==============================] - 0s 18ms/step\n",
            "1/1 [==============================] - 0s 18ms/step\n"
          ]
        },
        {
          "output_type": "display_data",
          "data": {
            "text/plain": [
              "<Figure size 500x500 with 25 Axes>"
            ],
            "image/png": "[encoded data removed]"
          },
          "metadata": {}
        }
      ]
    }
  ]
}